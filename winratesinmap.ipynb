{
 "cells": [
  {
   "cell_type": "code",
   "execution_count": 1,
   "id": "34456fc8-7535-4990-80cd-3b44bf63e4b9",
   "metadata": {},
   "outputs": [
    {
     "name": "stdout",
     "output_type": "stream",
     "text": [
      "           civs   win_rate\n",
      "1          Huns  61.739130\n",
      "2       Teutons  60.869565\n",
      "3      Italians  56.603774\n",
      "4        Tatars  55.555556\n",
      "5       Berbers  55.000000\n",
      "6   Lithuanians  54.193548\n",
      "7      Japanese  54.166667\n",
      "8        Mayans  52.941176\n",
      "9         Incas  52.173913\n",
      "10        Malay  51.724138\n",
      "11      Mongols  50.980392\n",
      "12      Spanish  50.000000\n",
      "13      Burmese  50.000000\n",
      "14   Ethiopians  50.000000\n",
      "15   Bulgarians  48.648649\n",
      "16      Koreans  48.000000\n",
      "17        Goths  47.368421\n",
      "18     Persians  47.260274\n",
      "19       Franks  46.938776\n",
      "20      Malians  46.788991\n",
      "21      Magyars  46.511628\n",
      "22       Aztecs  46.428571\n",
      "23      Chinese  45.161290\n",
      "24  Burgundians  45.000000\n",
      "25      Indians  45.000000\n",
      "26        Turks  43.478261\n",
      "27   Byzantines  42.857143\n",
      "28      Britons  41.666667\n",
      "29    Sicilians  41.666667\n",
      "30        Celts  41.463415\n",
      "31       Cumans  41.176471\n",
      "32        Slavs  40.000000\n",
      "33      Vikings  39.393939\n",
      "34   Vietnamese  31.818182\n",
      "35        Khmer  28.571429\n",
      "36   Portuguese  26.666667\n",
      "37     Saracens  20.000000\n"
     ]
    }
   ],
   "source": [
    "import pandas as pd\n",
    "\n",
    "#replace with the location of your csv file\n",
    "df = pd.read_csv(\"file-location\")\n",
    "\n",
    "##four lakes map win rates per civ in high elo\n",
    "\n",
    "#filter to games in high elo (over 1300)\n",
    "table_high = df.loc[df['rating.win'] >= 1300]\n",
    "#filter to games in Four Lakes\n",
    "fourlakes_table_high = table_high.loc[df['map_type.name']  == 'Four Lakes']\n",
    "\n",
    "#wins with civ / all games with civ\n",
    "fourlakes_winrates_high = fourlakes_table_high['civ.win.name'].value_counts()/(fourlakes_table_high['civ.win.name'].value_counts()+fourlakes_table_high['civ.lose.name'].value_counts())\n",
    "#sort winrates and name columns\n",
    "fourlakes_winrates_high = fourlakes_winrates_high.sort_values(ascending = False).reset_index().rename(columns={'index':'civs',0:'win_rate'})\n",
    "#winrate to percentage\n",
    "fourlakes_winrates_high.win_rate = fourlakes_winrates_high.win_rate * 100\n",
    "#index starts from 1\n",
    "fourlakes_winrates_high.index += 1\n",
    "\n",
    "print(fourlakes_winrates_high)"
   ]
  },
  {
   "cell_type": "code",
   "execution_count": null,
   "id": "29b21263-b0f1-4e9e-92ca-a8274821c68a",
   "metadata": {},
   "outputs": [],
   "source": []
  }
 ],
 "metadata": {
  "kernelspec": {
   "display_name": "Python 3 (ipykernel)",
   "language": "python",
   "name": "python3"
  },
  "language_info": {
   "codemirror_mode": {
    "name": "ipython",
    "version": 3
   },
   "file_extension": ".py",
   "mimetype": "text/x-python",
   "name": "python",
   "nbconvert_exporter": "python",
   "pygments_lexer": "ipython3",
   "version": "3.10.7"
  }
 },
 "nbformat": 4,
 "nbformat_minor": 5
}
