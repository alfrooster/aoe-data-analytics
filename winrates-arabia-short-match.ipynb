{
 "cells": [
  {
   "cell_type": "code",
   "execution_count": null,
   "metadata": {},
   "outputs": [],
   "source": [
    "import pandas as pd\n",
    "import numpy as np\n",
    "import chardet\n",
    "\n",
    "\n",
    "df = pd.read_csv(\"FILENAME.csv\")\n",
    "\n",
    "print('Arabia winning civs in short matches (30 mins)')\n",
    "\n",
    "#filter to under 30 min games\n",
    "table_duration = df.loc[df['duration'] <= '00:30:00']\n",
    "#filter to games in Arabia map\n",
    "table_arabia = table_duration.loc[df['map_type.name']  == 'Arabia']\n",
    "\n",
    "#wins with civ / all games with civ\n",
    "arabia_winrates = table_arabia['civ.win.name'].value_counts()/(table_arabia['civ.win.name'].value_counts()+table_arabia['civ.lose.name'].value_counts())\n",
    "#sort winrates and name columns\n",
    "arabia_winrates = arabia_winrates.sort_values(ascending = False).reset_index().rename(columns={'index':'civs',0:'win_rate'})\n",
    "#winrate to percentage\n",
    "arabia_winrates.win_rate = arabia_winrates.win_rate * 100\n",
    "#index starts from 1\n",
    "arabia_winrates.index += 1\n",
    "\n",
    "print(arabia_winrates , '\\n')\n",
    "print('The civilization that wins most often Arabia matches in under 30 minutes is', arabia_winrates.civs[1])"
   ]
  }
 ],
 "metadata": {
  "language_info": {
   "name": "python"
  },
  "orig_nbformat": 4
 },
 "nbformat": 4,
 "nbformat_minor": 2
}
